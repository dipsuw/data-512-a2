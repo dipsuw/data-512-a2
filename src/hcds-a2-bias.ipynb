{
 "cells": [
  {
   "cell_type": "markdown",
   "metadata": {
    "deletable": true,
    "editable": true
   },
   "source": [
    "# Bias on Wikipedia\n",
    "The goal of this assignment is to explore the concept of 'bias' through data on Wikipedia articles - specifically, articles on political figures from a variety of countries. \n",
    "* perform an analysis of how the coverage of politicians on Wikipedia and the quality of articles about politicians varies between countries\n",
    "* list the countries with the greatest and least coverage of politicians on Wikipedia compared to their population.\n",
    "* list the countries with the highest and lowest proportion of high quality articles about politicians.\n",
    "\n",
    "## ORES request\n",
    "\n",
    "ORES(Objective Revision Evaluation Service) is an artificial intelligence system used to identify vandalism on Wikipedia and distinguish it from good faith edits.\n",
    "## References\n",
    "* https://wiki.communitydata.cc/HCDS_(Fall_2017)/Assignments#A2:_Bias_in_data\n",
    "* https://en.wikipedia.org/wiki/Aaron_Halfaker\n",
    "* https://www.mediawiki.org/wiki/ORES\n",
    "\n",
    "## Data Sources\n",
    "* http://www.prb.org/DataFinder/Topic/Rankings.aspx?ind=14\n",
    "* https://figshare.com/articles/Untitled_Item/5513449"
   ]
  },
  {
   "cell_type": "markdown",
   "metadata": {},
   "source": [
    "### Setup"
   ]
  },
  {
   "cell_type": "code",
   "execution_count": 250,
   "metadata": {
    "collapsed": false,
    "deletable": true,
    "editable": true
   },
   "outputs": [],
   "source": [
    "#import required libraries\n",
    "import requests\n",
    "import json\n",
    "import pandas as pd\n",
    "import numpy as np"
   ]
  },
  {
   "cell_type": "markdown",
   "metadata": {
    "deletable": true,
    "editable": true
   },
   "source": [
    "Importing the other data is just a matter of reading CSV files in! (and for the R programmers - we'll have an R example up as soon as the Hub supports the language)."
   ]
  },
  {
   "cell_type": "markdown",
   "metadata": {},
   "source": [
    "### Step1: Getting the article and population data"
   ]
  },
  {
   "cell_type": "code",
   "execution_count": 285,
   "metadata": {
    "collapsed": false,
    "deletable": true,
    "editable": true
   },
   "outputs": [],
   "source": [
    "# downloaded from figshare\n",
    "wiki_data = pd.read_csv('data-512-a2/data/raw/page_data.csv')\n",
    "# downloaded from Population Reference Bureau\n",
    "population_data = pd.read_csv('data-512-a2/data/raw/Population Mid-2015.csv', header = 2)"
   ]
  },
  {
   "cell_type": "code",
   "execution_count": 336,
   "metadata": {
    "collapsed": false
   },
   "outputs": [
    {
     "data": {
      "text/html": [
       "<div>\n",
       "<table border=\"1\" class=\"dataframe\">\n",
       "  <thead>\n",
       "    <tr style=\"text-align: right;\">\n",
       "      <th></th>\n",
       "      <th>page</th>\n",
       "      <th>country</th>\n",
       "      <th>rev_id</th>\n",
       "    </tr>\n",
       "  </thead>\n",
       "  <tbody>\n",
       "    <tr>\n",
       "      <th>0</th>\n",
       "      <td>Template:ZambiaProvincialMinisters</td>\n",
       "      <td>Zambia</td>\n",
       "      <td>235107991</td>\n",
       "    </tr>\n",
       "    <tr>\n",
       "      <th>1</th>\n",
       "      <td>Bir I of Kanem</td>\n",
       "      <td>Chad</td>\n",
       "      <td>355319463</td>\n",
       "    </tr>\n",
       "    <tr>\n",
       "      <th>2</th>\n",
       "      <td>Template:Zimbabwe-politician-stub</td>\n",
       "      <td>Zimbabwe</td>\n",
       "      <td>391862046</td>\n",
       "    </tr>\n",
       "    <tr>\n",
       "      <th>3</th>\n",
       "      <td>Template:Uganda-politician-stub</td>\n",
       "      <td>Uganda</td>\n",
       "      <td>391862070</td>\n",
       "    </tr>\n",
       "    <tr>\n",
       "      <th>4</th>\n",
       "      <td>Template:Namibia-politician-stub</td>\n",
       "      <td>Namibia</td>\n",
       "      <td>391862409</td>\n",
       "    </tr>\n",
       "  </tbody>\n",
       "</table>\n",
       "</div>"
      ],
      "text/plain": [
       "                                 page   country     rev_id\n",
       "0  Template:ZambiaProvincialMinisters    Zambia  235107991\n",
       "1                      Bir I of Kanem      Chad  355319463\n",
       "2   Template:Zimbabwe-politician-stub  Zimbabwe  391862046\n",
       "3     Template:Uganda-politician-stub    Uganda  391862070\n",
       "4    Template:Namibia-politician-stub   Namibia  391862409"
      ]
     },
     "execution_count": 336,
     "metadata": {},
     "output_type": "execute_result"
    }
   ],
   "source": [
    "wiki_data.head()"
   ]
  },
  {
   "cell_type": "code",
   "execution_count": 287,
   "metadata": {
    "collapsed": false,
    "deletable": true,
    "editable": true
   },
   "outputs": [
    {
     "data": {
      "text/html": [
       "<div>\n",
       "<table border=\"1\" class=\"dataframe\">\n",
       "  <thead>\n",
       "    <tr style=\"text-align: right;\">\n",
       "      <th></th>\n",
       "      <th>Location</th>\n",
       "      <th>Location Type</th>\n",
       "      <th>TimeFrame</th>\n",
       "      <th>Data Type</th>\n",
       "      <th>Data</th>\n",
       "    </tr>\n",
       "  </thead>\n",
       "  <tbody>\n",
       "    <tr>\n",
       "      <th>0</th>\n",
       "      <td>Afghanistan</td>\n",
       "      <td>Country</td>\n",
       "      <td>Mid-2015</td>\n",
       "      <td>Number</td>\n",
       "      <td>32247000</td>\n",
       "    </tr>\n",
       "    <tr>\n",
       "      <th>1</th>\n",
       "      <td>Albania</td>\n",
       "      <td>Country</td>\n",
       "      <td>Mid-2015</td>\n",
       "      <td>Number</td>\n",
       "      <td>2892000</td>\n",
       "    </tr>\n",
       "    <tr>\n",
       "      <th>2</th>\n",
       "      <td>Algeria</td>\n",
       "      <td>Country</td>\n",
       "      <td>Mid-2015</td>\n",
       "      <td>Number</td>\n",
       "      <td>39948000</td>\n",
       "    </tr>\n",
       "    <tr>\n",
       "      <th>3</th>\n",
       "      <td>Andorra</td>\n",
       "      <td>Country</td>\n",
       "      <td>Mid-2015</td>\n",
       "      <td>Number</td>\n",
       "      <td>78000</td>\n",
       "    </tr>\n",
       "    <tr>\n",
       "      <th>4</th>\n",
       "      <td>Angola</td>\n",
       "      <td>Country</td>\n",
       "      <td>Mid-2015</td>\n",
       "      <td>Number</td>\n",
       "      <td>25000000</td>\n",
       "    </tr>\n",
       "  </tbody>\n",
       "</table>\n",
       "</div>"
      ],
      "text/plain": [
       "      Location Location Type TimeFrame Data Type      Data\n",
       "0  Afghanistan       Country  Mid-2015    Number  32247000\n",
       "1      Albania       Country  Mid-2015    Number   2892000\n",
       "2      Algeria       Country  Mid-2015    Number  39948000\n",
       "3      Andorra       Country  Mid-2015    Number     78000\n",
       "4       Angola       Country  Mid-2015    Number  25000000"
      ]
     },
     "execution_count": 287,
     "metadata": {},
     "output_type": "execute_result"
    }
   ],
   "source": [
    "population_data = population_data.drop('Footnotes',1)\n",
    "population_data.head()"
   ]
  },
  {
   "cell_type": "markdown",
   "metadata": {},
   "source": [
    "### Step 2: Getting article quality predictions"
   ]
  },
  {
   "cell_type": "code",
   "execution_count": 179,
   "metadata": {
    "collapsed": false,
    "deletable": true,
    "editable": true
   },
   "outputs": [],
   "source": [
    "# function to get article quality prediction(provided in class from Oliver Keyes)\n",
    "def get_ores_data(revision_ids, headers):    \n",
    "    # Define the endpoint\n",
    "    endpoint = 'https://ores.wikimedia.org/v3/scores/{project}/?models={model}&revids={revids}'    \n",
    "    # Define parameters\n",
    "    params = {'project' : 'enwiki',\n",
    "              'model'   : 'wp10',\n",
    "              'revids'  : '|'.join(str(x) for x in revision_ids)\n",
    "              }\n",
    "    api_call = requests.get(endpoint.format(**params))\n",
    "    response = api_call.json()\n",
    "    for x in revision_ids:\n",
    "        item = str(x)\n",
    "        # extract prediction from json\n",
    "        prediction.append(response['enwiki']['scores'][item]['wp10']['score']['prediction'])\n",
    "        revision_id.append(x)"
   ]
  },
  {
   "cell_type": "code",
   "execution_count": 182,
   "metadata": {
    "collapsed": false,
    "scrolled": false
   },
   "outputs": [
    {
     "data": {
      "text/plain": [
       "47062"
      ]
     },
     "execution_count": 182,
     "metadata": {},
     "output_type": "execute_result"
    }
   ],
   "source": [
    "# Call get_ores_data() by providing 100 revision ids at a time\n",
    "response = []\n",
    "prediction = []\n",
    "country =[]\n",
    "article_name = []\n",
    "revision_id = []\n",
    "i=0\n",
    "while(i < len(wiki_data)): \n",
    "    try:\n",
    "        example_ids = []\n",
    "        j = 0\n",
    "        while(j < 100):\n",
    "            example_ids.append(wiki_data['rev_id'][i])\n",
    "            j = j + 1\n",
    "            i = i + 1   \n",
    "        get_ores_data(example_ids, headers)\n",
    "    except Exception:\n",
    "        pass\n",
    "#print prediction and revision_id length   \n",
    "len(prediction)\n",
    "len(revision_id)"
   ]
  },
  {
   "cell_type": "code",
   "execution_count": 183,
   "metadata": {
    "collapsed": true
   },
   "outputs": [],
   "source": [
    "# merge prediction and revision id which we got from get_ores_data()\n",
    "wiki_df = pd.DataFrame({'article_quality':prediction, 'rev_id':revision_id})"
   ]
  },
  {
   "cell_type": "code",
   "execution_count": 187,
   "metadata": {
    "collapsed": true
   },
   "outputs": [],
   "source": [
    "# merge the dataframe with prediction and revision_id with wikipedia data \n",
    "wiki_merged_df = wiki_df.merge(wiki_data, left_on='rev_id', right_on='rev_id', how='inner')"
   ]
  },
  {
   "cell_type": "code",
   "execution_count": 189,
   "metadata": {
    "collapsed": false
   },
   "outputs": [
    {
     "data": {
      "text/html": [
       "<div>\n",
       "<table border=\"1\" class=\"dataframe\">\n",
       "  <thead>\n",
       "    <tr style=\"text-align: right;\">\n",
       "      <th></th>\n",
       "      <th>article_quality</th>\n",
       "      <th>rev_id</th>\n",
       "      <th>page</th>\n",
       "      <th>country</th>\n",
       "    </tr>\n",
       "  </thead>\n",
       "  <tbody>\n",
       "    <tr>\n",
       "      <th>0</th>\n",
       "      <td>Stub</td>\n",
       "      <td>235107991</td>\n",
       "      <td>Template:ZambiaProvincialMinisters</td>\n",
       "      <td>Zambia</td>\n",
       "    </tr>\n",
       "    <tr>\n",
       "      <th>1</th>\n",
       "      <td>Stub</td>\n",
       "      <td>355319463</td>\n",
       "      <td>Bir I of Kanem</td>\n",
       "      <td>Chad</td>\n",
       "    </tr>\n",
       "    <tr>\n",
       "      <th>2</th>\n",
       "      <td>Stub</td>\n",
       "      <td>391862046</td>\n",
       "      <td>Template:Zimbabwe-politician-stub</td>\n",
       "      <td>Zimbabwe</td>\n",
       "    </tr>\n",
       "    <tr>\n",
       "      <th>3</th>\n",
       "      <td>Stub</td>\n",
       "      <td>391862070</td>\n",
       "      <td>Template:Uganda-politician-stub</td>\n",
       "      <td>Uganda</td>\n",
       "    </tr>\n",
       "    <tr>\n",
       "      <th>4</th>\n",
       "      <td>Stub</td>\n",
       "      <td>391862409</td>\n",
       "      <td>Template:Namibia-politician-stub</td>\n",
       "      <td>Namibia</td>\n",
       "    </tr>\n",
       "  </tbody>\n",
       "</table>\n",
       "</div>"
      ],
      "text/plain": [
       "  article_quality     rev_id                                page   country\n",
       "0            Stub  235107991  Template:ZambiaProvincialMinisters    Zambia\n",
       "1            Stub  355319463                      Bir I of Kanem      Chad\n",
       "2            Stub  391862046   Template:Zimbabwe-politician-stub  Zimbabwe\n",
       "3            Stub  391862070     Template:Uganda-politician-stub    Uganda\n",
       "4            Stub  391862409    Template:Namibia-politician-stub   Namibia"
      ]
     },
     "execution_count": 189,
     "metadata": {},
     "output_type": "execute_result"
    }
   ],
   "source": [
    "wiki_merged_df.head()"
   ]
  },
  {
   "cell_type": "code",
   "execution_count": 191,
   "metadata": {
    "collapsed": false
   },
   "outputs": [],
   "source": [
    "# write wikipedia data along with article quality in a single dataframe\n",
    "wikipedia_data = pd.DataFrame({\n",
    "    'country':wiki_merged_df['country'],\n",
    "    'article_name': wiki_merged_df['page'],\n",
    "    'revision_id': wiki_merged_df['rev_id'],\n",
    "    'article_quality': wiki_merged_df['article_quality']\n",
    "} )"
   ]
  },
  {
   "cell_type": "code",
   "execution_count": 288,
   "metadata": {
    "collapsed": false
   },
   "outputs": [],
   "source": [
    "# write population data in a single dataframe, this will be merged with wikipedia data\n",
    "pop_data = pd.DataFrame({\n",
    "    'country':population_data['Location'],\n",
    "    'population': population_data['Data']})"
   ]
  },
  {
   "cell_type": "code",
   "execution_count": 289,
   "metadata": {
    "collapsed": false
   },
   "outputs": [
    {
     "data": {
      "text/html": [
       "<div>\n",
       "<table border=\"1\" class=\"dataframe\">\n",
       "  <thead>\n",
       "    <tr style=\"text-align: right;\">\n",
       "      <th></th>\n",
       "      <th>country</th>\n",
       "      <th>population</th>\n",
       "    </tr>\n",
       "  </thead>\n",
       "  <tbody>\n",
       "    <tr>\n",
       "      <th>0</th>\n",
       "      <td>Afghanistan</td>\n",
       "      <td>32247000</td>\n",
       "    </tr>\n",
       "    <tr>\n",
       "      <th>1</th>\n",
       "      <td>Albania</td>\n",
       "      <td>2892000</td>\n",
       "    </tr>\n",
       "    <tr>\n",
       "      <th>2</th>\n",
       "      <td>Algeria</td>\n",
       "      <td>39948000</td>\n",
       "    </tr>\n",
       "    <tr>\n",
       "      <th>3</th>\n",
       "      <td>Andorra</td>\n",
       "      <td>78000</td>\n",
       "    </tr>\n",
       "    <tr>\n",
       "      <th>4</th>\n",
       "      <td>Angola</td>\n",
       "      <td>25000000</td>\n",
       "    </tr>\n",
       "  </tbody>\n",
       "</table>\n",
       "</div>"
      ],
      "text/plain": [
       "       country  population\n",
       "0  Afghanistan    32247000\n",
       "1      Albania     2892000\n",
       "2      Algeria    39948000\n",
       "3      Andorra       78000\n",
       "4       Angola    25000000"
      ]
     },
     "execution_count": 289,
     "metadata": {},
     "output_type": "execute_result"
    }
   ],
   "source": [
    "pop_data.head()"
   ]
  },
  {
   "cell_type": "markdown",
   "metadata": {},
   "source": [
    "### Step 3: Combining the datasets"
   ]
  },
  {
   "cell_type": "code",
   "execution_count": 194,
   "metadata": {
    "collapsed": true
   },
   "outputs": [],
   "source": [
    "#merge wikipedia and population data\n",
    "final_merged_df = wikipedia_data.merge(pop_data, left_on='country', right_on='country', how='inner')"
   ]
  },
  {
   "cell_type": "code",
   "execution_count": 198,
   "metadata": {
    "collapsed": false
   },
   "outputs": [
    {
     "data": {
      "text/html": [
       "<div>\n",
       "<table border=\"1\" class=\"dataframe\">\n",
       "  <thead>\n",
       "    <tr style=\"text-align: right;\">\n",
       "      <th></th>\n",
       "      <th>article_name</th>\n",
       "      <th>article_quality</th>\n",
       "      <th>country</th>\n",
       "      <th>revision_id</th>\n",
       "      <th>population</th>\n",
       "    </tr>\n",
       "  </thead>\n",
       "  <tbody>\n",
       "    <tr>\n",
       "      <th>0</th>\n",
       "      <td>Template:ZambiaProvincialMinisters</td>\n",
       "      <td>Stub</td>\n",
       "      <td>Zambia</td>\n",
       "      <td>235107991</td>\n",
       "      <td>15,473,900</td>\n",
       "    </tr>\n",
       "    <tr>\n",
       "      <th>1</th>\n",
       "      <td>Gladys Lundwe</td>\n",
       "      <td>Stub</td>\n",
       "      <td>Zambia</td>\n",
       "      <td>757566606</td>\n",
       "      <td>15,473,900</td>\n",
       "    </tr>\n",
       "    <tr>\n",
       "      <th>2</th>\n",
       "      <td>Mwamba Luchembe</td>\n",
       "      <td>Stub</td>\n",
       "      <td>Zambia</td>\n",
       "      <td>764848643</td>\n",
       "      <td>15,473,900</td>\n",
       "    </tr>\n",
       "    <tr>\n",
       "      <th>3</th>\n",
       "      <td>Thandiwe Banda</td>\n",
       "      <td>Start</td>\n",
       "      <td>Zambia</td>\n",
       "      <td>768166426</td>\n",
       "      <td>15,473,900</td>\n",
       "    </tr>\n",
       "    <tr>\n",
       "      <th>4</th>\n",
       "      <td>Sylvester Chisembele</td>\n",
       "      <td>C</td>\n",
       "      <td>Zambia</td>\n",
       "      <td>776082926</td>\n",
       "      <td>15,473,900</td>\n",
       "    </tr>\n",
       "  </tbody>\n",
       "</table>\n",
       "</div>"
      ],
      "text/plain": [
       "                         article_name article_quality country  revision_id  \\\n",
       "0  Template:ZambiaProvincialMinisters            Stub  Zambia    235107991   \n",
       "1                       Gladys Lundwe            Stub  Zambia    757566606   \n",
       "2                     Mwamba Luchembe            Stub  Zambia    764848643   \n",
       "3                      Thandiwe Banda           Start  Zambia    768166426   \n",
       "4                Sylvester Chisembele               C  Zambia    776082926   \n",
       "\n",
       "   population  \n",
       "0  15,473,900  \n",
       "1  15,473,900  \n",
       "2  15,473,900  \n",
       "3  15,473,900  \n",
       "4  15,473,900  "
      ]
     },
     "execution_count": 198,
     "metadata": {},
     "output_type": "execute_result"
    }
   ],
   "source": [
    "# resulting data on merging wikipedia and population data\n",
    "final_merged_df.head()"
   ]
  },
  {
   "cell_type": "code",
   "execution_count": 197,
   "metadata": {
    "collapsed": true
   },
   "outputs": [],
   "source": [
    "# write merged dataframe in csv file\n",
    "final_merged_df.to_csv('article_quality_data_with_population.csv', sep=',')"
   ]
  },
  {
   "cell_type": "markdown",
   "metadata": {},
   "source": [
    "### Step 4: Analysis\n",
    "#### Step 4(a): Number of politician articles as a proportion of country population"
   ]
  },
  {
   "cell_type": "code",
   "execution_count": 302,
   "metadata": {
    "collapsed": false
   },
   "outputs": [
    {
     "data": {
      "text/html": [
       "<div>\n",
       "<table border=\"1\" class=\"dataframe\">\n",
       "  <thead>\n",
       "    <tr style=\"text-align: right;\">\n",
       "      <th></th>\n",
       "      <th>articles_count</th>\n",
       "      <th>country</th>\n",
       "    </tr>\n",
       "  </thead>\n",
       "  <tbody>\n",
       "    <tr>\n",
       "      <th>0</th>\n",
       "      <td>327</td>\n",
       "      <td>Afghanistan</td>\n",
       "    </tr>\n",
       "    <tr>\n",
       "      <th>1</th>\n",
       "      <td>458</td>\n",
       "      <td>Albania</td>\n",
       "    </tr>\n",
       "    <tr>\n",
       "      <th>2</th>\n",
       "      <td>119</td>\n",
       "      <td>Algeria</td>\n",
       "    </tr>\n",
       "    <tr>\n",
       "      <th>3</th>\n",
       "      <td>34</td>\n",
       "      <td>Andorra</td>\n",
       "    </tr>\n",
       "    <tr>\n",
       "      <th>4</th>\n",
       "      <td>110</td>\n",
       "      <td>Angola</td>\n",
       "    </tr>\n",
       "  </tbody>\n",
       "</table>\n",
       "</div>"
      ],
      "text/plain": [
       "   articles_count      country\n",
       "0             327  Afghanistan\n",
       "1             458      Albania\n",
       "2             119      Algeria\n",
       "3              34      Andorra\n",
       "4             110       Angola"
      ]
     },
     "execution_count": 302,
     "metadata": {},
     "output_type": "execute_result"
    }
   ],
   "source": [
    "# get count of articles by country, this is same as groupby in sql\n",
    "articles_by_country = final_merged_df.groupby('country').count()['article_name'].astype(int).reset_index()\n",
    "articles_by_country = pd.DataFrame({'country':articles_by_country['country'], 'articles_count':articles_by_country['article_name']})\n",
    "articles_by_country.head()"
   ]
  },
  {
   "cell_type": "code",
   "execution_count": 319,
   "metadata": {
    "collapsed": false
   },
   "outputs": [],
   "source": [
    "# merge grouped data with population data\n",
    "articles_proportion = articles_by_country.merge(pop_data, left_on='country', right_on='country', how='inner')\n",
    "articles_proportion['percentage'] = articles_proportion['articles_count']*100/articles_proportion['population']"
   ]
  },
  {
   "cell_type": "code",
   "execution_count": 320,
   "metadata": {
    "collapsed": true
   },
   "outputs": [],
   "source": [
    "# sort the data in descending order to get list of top 10 and bottom 10 countries\n",
    "rank_of_countries =articles_proportion.sort_values(['percentage'], ascending=[False])\n",
    "rank_of_countries = rank_of_countries.dropna()"
   ]
  },
  {
   "cell_type": "code",
   "execution_count": 321,
   "metadata": {
    "collapsed": false
   },
   "outputs": [
    {
     "data": {
      "text/html": [
       "<div>\n",
       "<table border=\"1\" class=\"dataframe\">\n",
       "  <thead>\n",
       "    <tr style=\"text-align: right;\">\n",
       "      <th></th>\n",
       "      <th>articles_count</th>\n",
       "      <th>country</th>\n",
       "      <th>population</th>\n",
       "      <th>percentage</th>\n",
       "    </tr>\n",
       "  </thead>\n",
       "  <tbody>\n",
       "    <tr>\n",
       "      <th>120</th>\n",
       "      <td>53</td>\n",
       "      <td>Nauru</td>\n",
       "      <td>10860</td>\n",
       "      <td>0.488029</td>\n",
       "    </tr>\n",
       "    <tr>\n",
       "      <th>173</th>\n",
       "      <td>55</td>\n",
       "      <td>Tuvalu</td>\n",
       "      <td>11800</td>\n",
       "      <td>0.466102</td>\n",
       "    </tr>\n",
       "    <tr>\n",
       "      <th>141</th>\n",
       "      <td>82</td>\n",
       "      <td>San Marino</td>\n",
       "      <td>33000</td>\n",
       "      <td>0.248485</td>\n",
       "    </tr>\n",
       "    <tr>\n",
       "      <th>113</th>\n",
       "      <td>40</td>\n",
       "      <td>Monaco</td>\n",
       "      <td>38088</td>\n",
       "      <td>0.105020</td>\n",
       "    </tr>\n",
       "    <tr>\n",
       "      <th>97</th>\n",
       "      <td>29</td>\n",
       "      <td>Liechtenstein</td>\n",
       "      <td>37570</td>\n",
       "      <td>0.077189</td>\n",
       "    </tr>\n",
       "    <tr>\n",
       "      <th>107</th>\n",
       "      <td>37</td>\n",
       "      <td>Marshall Islands</td>\n",
       "      <td>55000</td>\n",
       "      <td>0.067273</td>\n",
       "    </tr>\n",
       "    <tr>\n",
       "      <th>72</th>\n",
       "      <td>206</td>\n",
       "      <td>Iceland</td>\n",
       "      <td>330828</td>\n",
       "      <td>0.062268</td>\n",
       "    </tr>\n",
       "    <tr>\n",
       "      <th>168</th>\n",
       "      <td>63</td>\n",
       "      <td>Tonga</td>\n",
       "      <td>103300</td>\n",
       "      <td>0.060987</td>\n",
       "    </tr>\n",
       "    <tr>\n",
       "      <th>3</th>\n",
       "      <td>34</td>\n",
       "      <td>Andorra</td>\n",
       "      <td>78000</td>\n",
       "      <td>0.043590</td>\n",
       "    </tr>\n",
       "    <tr>\n",
       "      <th>54</th>\n",
       "      <td>38</td>\n",
       "      <td>Federated States of Micronesia</td>\n",
       "      <td>103000</td>\n",
       "      <td>0.036893</td>\n",
       "    </tr>\n",
       "  </tbody>\n",
       "</table>\n",
       "</div>"
      ],
      "text/plain": [
       "     articles_count                         country  population  percentage\n",
       "120              53                           Nauru       10860    0.488029\n",
       "173              55                          Tuvalu       11800    0.466102\n",
       "141              82                      San Marino       33000    0.248485\n",
       "113              40                          Monaco       38088    0.105020\n",
       "97               29                   Liechtenstein       37570    0.077189\n",
       "107              37                Marshall Islands       55000    0.067273\n",
       "72              206                         Iceland      330828    0.062268\n",
       "168              63                           Tonga      103300    0.060987\n",
       "3                34                         Andorra       78000    0.043590\n",
       "54               38  Federated States of Micronesia      103000    0.036893"
      ]
     },
     "execution_count": 321,
     "metadata": {},
     "output_type": "execute_result"
    }
   ],
   "source": [
    "#10 highest-ranked countries in terms of number of politician articles as a proportion of country population\n",
    "rank_of_countries.head(10)"
   ]
  },
  {
   "cell_type": "code",
   "execution_count": 322,
   "metadata": {
    "collapsed": false
   },
   "outputs": [
    {
     "data": {
      "text/html": [
       "<div>\n",
       "<table border=\"1\" class=\"dataframe\">\n",
       "  <thead>\n",
       "    <tr style=\"text-align: right;\">\n",
       "      <th></th>\n",
       "      <th>articles_count</th>\n",
       "      <th>country</th>\n",
       "      <th>population</th>\n",
       "      <th>percentage</th>\n",
       "    </tr>\n",
       "  </thead>\n",
       "  <tbody>\n",
       "    <tr>\n",
       "      <th>13</th>\n",
       "      <td>322</td>\n",
       "      <td>Bangladesh</td>\n",
       "      <td>160411000</td>\n",
       "      <td>0.000201</td>\n",
       "    </tr>\n",
       "    <tr>\n",
       "      <th>38</th>\n",
       "      <td>142</td>\n",
       "      <td>Congo, Dem. Rep. of</td>\n",
       "      <td>73340200</td>\n",
       "      <td>0.000194</td>\n",
       "    </tr>\n",
       "    <tr>\n",
       "      <th>166</th>\n",
       "      <td>111</td>\n",
       "      <td>Thailand</td>\n",
       "      <td>65121250</td>\n",
       "      <td>0.000170</td>\n",
       "    </tr>\n",
       "    <tr>\n",
       "      <th>185</th>\n",
       "      <td>26</td>\n",
       "      <td>Zambia</td>\n",
       "      <td>15473900</td>\n",
       "      <td>0.000168</td>\n",
       "    </tr>\n",
       "    <tr>\n",
       "      <th>86</th>\n",
       "      <td>38</td>\n",
       "      <td>Korea, North</td>\n",
       "      <td>24983000</td>\n",
       "      <td>0.000152</td>\n",
       "    </tr>\n",
       "    <tr>\n",
       "      <th>53</th>\n",
       "      <td>105</td>\n",
       "      <td>Ethiopia</td>\n",
       "      <td>98148000</td>\n",
       "      <td>0.000107</td>\n",
       "    </tr>\n",
       "    <tr>\n",
       "      <th>180</th>\n",
       "      <td>29</td>\n",
       "      <td>Uzbekistan</td>\n",
       "      <td>31290791</td>\n",
       "      <td>0.000093</td>\n",
       "    </tr>\n",
       "    <tr>\n",
       "      <th>74</th>\n",
       "      <td>214</td>\n",
       "      <td>Indonesia</td>\n",
       "      <td>255741973</td>\n",
       "      <td>0.000084</td>\n",
       "    </tr>\n",
       "    <tr>\n",
       "      <th>34</th>\n",
       "      <td>1133</td>\n",
       "      <td>China</td>\n",
       "      <td>1371920000</td>\n",
       "      <td>0.000083</td>\n",
       "    </tr>\n",
       "    <tr>\n",
       "      <th>73</th>\n",
       "      <td>983</td>\n",
       "      <td>India</td>\n",
       "      <td>1314097616</td>\n",
       "      <td>0.000075</td>\n",
       "    </tr>\n",
       "  </tbody>\n",
       "</table>\n",
       "</div>"
      ],
      "text/plain": [
       "     articles_count              country  population  percentage\n",
       "13              322           Bangladesh   160411000    0.000201\n",
       "38              142  Congo, Dem. Rep. of    73340200    0.000194\n",
       "166             111             Thailand    65121250    0.000170\n",
       "185              26               Zambia    15473900    0.000168\n",
       "86               38         Korea, North    24983000    0.000152\n",
       "53              105             Ethiopia    98148000    0.000107\n",
       "180              29           Uzbekistan    31290791    0.000093\n",
       "74              214            Indonesia   255741973    0.000084\n",
       "34             1133                China  1371920000    0.000083\n",
       "73              983                India  1314097616    0.000075"
      ]
     },
     "execution_count": 322,
     "metadata": {},
     "output_type": "execute_result"
    }
   ],
   "source": [
    "#10 lowest-ranked countries in terms of number of politician articles as a proportion of country population\n",
    "rank_of_countries.tail(10)"
   ]
  },
  {
   "cell_type": "markdown",
   "metadata": {},
   "source": [
    "#### Step 4(b): Number of GA and FA-quality articles as a proportion of all articles about politicians from that country"
   ]
  },
  {
   "cell_type": "code",
   "execution_count": 324,
   "metadata": {
    "collapsed": false
   },
   "outputs": [
    {
     "data": {
      "text/html": [
       "<div>\n",
       "<table border=\"1\" class=\"dataframe\">\n",
       "  <thead>\n",
       "    <tr style=\"text-align: right;\">\n",
       "      <th></th>\n",
       "      <th>GA_FA_articles_count</th>\n",
       "      <th>country</th>\n",
       "    </tr>\n",
       "  </thead>\n",
       "  <tbody>\n",
       "    <tr>\n",
       "      <th>0</th>\n",
       "      <td>19</td>\n",
       "      <td>Afghanistan</td>\n",
       "    </tr>\n",
       "    <tr>\n",
       "      <th>1</th>\n",
       "      <td>5</td>\n",
       "      <td>Albania</td>\n",
       "    </tr>\n",
       "    <tr>\n",
       "      <th>2</th>\n",
       "      <td>3</td>\n",
       "      <td>Algeria</td>\n",
       "    </tr>\n",
       "    <tr>\n",
       "      <th>3</th>\n",
       "      <td>2</td>\n",
       "      <td>Angola</td>\n",
       "    </tr>\n",
       "    <tr>\n",
       "      <th>4</th>\n",
       "      <td>16</td>\n",
       "      <td>Argentina</td>\n",
       "    </tr>\n",
       "  </tbody>\n",
       "</table>\n",
       "</div>"
      ],
      "text/plain": [
       "   GA_FA_articles_count      country\n",
       "0                    19  Afghanistan\n",
       "1                     5      Albania\n",
       "2                     3      Algeria\n",
       "3                     2       Angola\n",
       "4                    16    Argentina"
      ]
     },
     "execution_count": 324,
     "metadata": {},
     "output_type": "execute_result"
    }
   ],
   "source": [
    "# get count of high quality articles by country by selecting rows with 'FA' and 'GA' and then grouping on country\n",
    "GA_FA_quality = pd.concat([final_merged_df.loc[final_merged_df['article_quality']=='FA'], \n",
    "                           final_merged_df.loc[final_merged_df['article_quality']=='GA']])\n",
    "GA_FA_quality = GA_FA_quality.groupby('country').count()['article_name'].reset_index()\n",
    "GA_FA_quality = pd.DataFrame({'country':GA_FA_quality['country'], 'GA_FA_articles_count':GA_FA_quality['article_name']})\n",
    "GA_FA_quality.head()"
   ]
  },
  {
   "cell_type": "code",
   "execution_count": 331,
   "metadata": {
    "collapsed": true
   },
   "outputs": [],
   "source": [
    "# merge grouped data with articles by country data\n",
    "GA_FA_articles_proportion = GA_FA_quality.merge(articles_by_country, left_on='country', right_on='country', how='inner')\n",
    "GA_FA_articles_proportion['percentage_of_GA_FA'] = GA_FA_quality['GA_FA_articles_count']*100/GA_FA_articles_proportion['articles_count']"
   ]
  },
  {
   "cell_type": "code",
   "execution_count": 332,
   "metadata": {
    "collapsed": false
   },
   "outputs": [
    {
     "data": {
      "text/html": [
       "<div>\n",
       "<table border=\"1\" class=\"dataframe\">\n",
       "  <thead>\n",
       "    <tr style=\"text-align: right;\">\n",
       "      <th></th>\n",
       "      <th>GA_FA_articles_count</th>\n",
       "      <th>country</th>\n",
       "      <th>articles_count</th>\n",
       "      <th>percentage_of_GA_FA</th>\n",
       "    </tr>\n",
       "  </thead>\n",
       "  <tbody>\n",
       "    <tr>\n",
       "      <th>0</th>\n",
       "      <td>19</td>\n",
       "      <td>Afghanistan</td>\n",
       "      <td>327</td>\n",
       "      <td>5.810398</td>\n",
       "    </tr>\n",
       "    <tr>\n",
       "      <th>1</th>\n",
       "      <td>5</td>\n",
       "      <td>Albania</td>\n",
       "      <td>458</td>\n",
       "      <td>1.091703</td>\n",
       "    </tr>\n",
       "    <tr>\n",
       "      <th>2</th>\n",
       "      <td>3</td>\n",
       "      <td>Algeria</td>\n",
       "      <td>119</td>\n",
       "      <td>2.521008</td>\n",
       "    </tr>\n",
       "    <tr>\n",
       "      <th>3</th>\n",
       "      <td>2</td>\n",
       "      <td>Angola</td>\n",
       "      <td>110</td>\n",
       "      <td>1.818182</td>\n",
       "    </tr>\n",
       "    <tr>\n",
       "      <th>4</th>\n",
       "      <td>16</td>\n",
       "      <td>Argentina</td>\n",
       "      <td>496</td>\n",
       "      <td>3.225806</td>\n",
       "    </tr>\n",
       "  </tbody>\n",
       "</table>\n",
       "</div>"
      ],
      "text/plain": [
       "   GA_FA_articles_count      country  articles_count  percentage_of_GA_FA\n",
       "0                    19  Afghanistan             327             5.810398\n",
       "1                     5      Albania             458             1.091703\n",
       "2                     3      Algeria             119             2.521008\n",
       "3                     2       Angola             110             1.818182\n",
       "4                    16    Argentina             496             3.225806"
      ]
     },
     "execution_count": 332,
     "metadata": {},
     "output_type": "execute_result"
    }
   ],
   "source": [
    "GA_FA_articles_proportion.head()"
   ]
  },
  {
   "cell_type": "code",
   "execution_count": 338,
   "metadata": {
    "collapsed": true
   },
   "outputs": [],
   "source": [
    "## sort the data in descending order to get list of top 10 and bottom 10 countries\n",
    "rank_of_countries_by_GA_FA =GA_FA_articles_proportion.sort_values(['percentage_of_GA_FA'], ascending=[False])"
   ]
  },
  {
   "cell_type": "code",
   "execution_count": 334,
   "metadata": {
    "collapsed": false
   },
   "outputs": [
    {
     "data": {
      "text/html": [
       "<div>\n",
       "<table border=\"1\" class=\"dataframe\">\n",
       "  <thead>\n",
       "    <tr style=\"text-align: right;\">\n",
       "      <th></th>\n",
       "      <th>GA_FA_articles_count</th>\n",
       "      <th>country</th>\n",
       "      <th>articles_count</th>\n",
       "      <th>percentage_of_GA_FA</th>\n",
       "    </tr>\n",
       "  </thead>\n",
       "  <tbody>\n",
       "    <tr>\n",
       "      <th>66</th>\n",
       "      <td>8</td>\n",
       "      <td>Korea, North</td>\n",
       "      <td>38</td>\n",
       "      <td>21.052632</td>\n",
       "    </tr>\n",
       "    <tr>\n",
       "      <th>110</th>\n",
       "      <td>45</td>\n",
       "      <td>Romania</td>\n",
       "      <td>341</td>\n",
       "      <td>13.196481</td>\n",
       "    </tr>\n",
       "    <tr>\n",
       "      <th>22</th>\n",
       "      <td>8</td>\n",
       "      <td>Central African Republic</td>\n",
       "      <td>68</td>\n",
       "      <td>11.764706</td>\n",
       "    </tr>\n",
       "    <tr>\n",
       "      <th>113</th>\n",
       "      <td>13</td>\n",
       "      <td>Saudi Arabia</td>\n",
       "      <td>117</td>\n",
       "      <td>11.111111</td>\n",
       "    </tr>\n",
       "    <tr>\n",
       "      <th>109</th>\n",
       "      <td>5</td>\n",
       "      <td>Qatar</td>\n",
       "      <td>51</td>\n",
       "      <td>9.803922</td>\n",
       "    </tr>\n",
       "    <tr>\n",
       "      <th>51</th>\n",
       "      <td>2</td>\n",
       "      <td>Guinea-Bissau</td>\n",
       "      <td>21</td>\n",
       "      <td>9.523810</td>\n",
       "    </tr>\n",
       "    <tr>\n",
       "      <th>12</th>\n",
       "      <td>3</td>\n",
       "      <td>Bhutan</td>\n",
       "      <td>33</td>\n",
       "      <td>9.090909</td>\n",
       "    </tr>\n",
       "    <tr>\n",
       "      <th>144</th>\n",
       "      <td>17</td>\n",
       "      <td>Vietnam</td>\n",
       "      <td>190</td>\n",
       "      <td>8.947368</td>\n",
       "    </tr>\n",
       "    <tr>\n",
       "      <th>59</th>\n",
       "      <td>30</td>\n",
       "      <td>Ireland</td>\n",
       "      <td>379</td>\n",
       "      <td>7.915567</td>\n",
       "    </tr>\n",
       "    <tr>\n",
       "      <th>139</th>\n",
       "      <td>85</td>\n",
       "      <td>United States</td>\n",
       "      <td>1086</td>\n",
       "      <td>7.826888</td>\n",
       "    </tr>\n",
       "  </tbody>\n",
       "</table>\n",
       "</div>"
      ],
      "text/plain": [
       "     GA_FA_articles_count                   country  articles_count  \\\n",
       "66                      8              Korea, North              38   \n",
       "110                    45                   Romania             341   \n",
       "22                      8  Central African Republic              68   \n",
       "113                    13              Saudi Arabia             117   \n",
       "109                     5                     Qatar              51   \n",
       "51                      2             Guinea-Bissau              21   \n",
       "12                      3                    Bhutan              33   \n",
       "144                    17                   Vietnam             190   \n",
       "59                     30                   Ireland             379   \n",
       "139                    85             United States            1086   \n",
       "\n",
       "     percentage_of_GA_FA  \n",
       "66             21.052632  \n",
       "110            13.196481  \n",
       "22             11.764706  \n",
       "113            11.111111  \n",
       "109             9.803922  \n",
       "51              9.523810  \n",
       "12              9.090909  \n",
       "144             8.947368  \n",
       "59              7.915567  \n",
       "139             7.826888  "
      ]
     },
     "execution_count": 334,
     "metadata": {},
     "output_type": "execute_result"
    }
   ],
   "source": [
    "#10 highest-ranked countries in terms of number of GA and FA-quality articles as a proportion of all articles about politicians from that country\n",
    "rank_of_countries_by_GA_FA.head(10)"
   ]
  },
  {
   "cell_type": "code",
   "execution_count": 335,
   "metadata": {
    "collapsed": false
   },
   "outputs": [
    {
     "data": {
      "text/html": [
       "<div>\n",
       "<table border=\"1\" class=\"dataframe\">\n",
       "  <thead>\n",
       "    <tr style=\"text-align: right;\">\n",
       "      <th></th>\n",
       "      <th>GA_FA_articles_count</th>\n",
       "      <th>country</th>\n",
       "      <th>articles_count</th>\n",
       "      <th>percentage_of_GA_FA</th>\n",
       "    </tr>\n",
       "  </thead>\n",
       "  <tbody>\n",
       "    <tr>\n",
       "      <th>98</th>\n",
       "      <td>4</td>\n",
       "      <td>Nigeria</td>\n",
       "      <td>683</td>\n",
       "      <td>0.585652</td>\n",
       "    </tr>\n",
       "    <tr>\n",
       "      <th>31</th>\n",
       "      <td>1</td>\n",
       "      <td>Cuba</td>\n",
       "      <td>175</td>\n",
       "      <td>0.571429</td>\n",
       "    </tr>\n",
       "    <tr>\n",
       "      <th>77</th>\n",
       "      <td>1</td>\n",
       "      <td>Luxembourg</td>\n",
       "      <td>180</td>\n",
       "      <td>0.555556</td>\n",
       "    </tr>\n",
       "    <tr>\n",
       "      <th>135</th>\n",
       "      <td>1</td>\n",
       "      <td>Uganda</td>\n",
       "      <td>187</td>\n",
       "      <td>0.534759</td>\n",
       "    </tr>\n",
       "    <tr>\n",
       "      <th>88</th>\n",
       "      <td>2</td>\n",
       "      <td>Moldova</td>\n",
       "      <td>426</td>\n",
       "      <td>0.469484</td>\n",
       "    </tr>\n",
       "    <tr>\n",
       "      <th>76</th>\n",
       "      <td>1</td>\n",
       "      <td>Lithuania</td>\n",
       "      <td>248</td>\n",
       "      <td>0.403226</td>\n",
       "    </tr>\n",
       "    <tr>\n",
       "      <th>33</th>\n",
       "      <td>1</td>\n",
       "      <td>Czech Republic</td>\n",
       "      <td>252</td>\n",
       "      <td>0.396825</td>\n",
       "    </tr>\n",
       "    <tr>\n",
       "      <th>105</th>\n",
       "      <td>1</td>\n",
       "      <td>Peru</td>\n",
       "      <td>354</td>\n",
       "      <td>0.282486</td>\n",
       "    </tr>\n",
       "    <tr>\n",
       "      <th>129</th>\n",
       "      <td>1</td>\n",
       "      <td>Tanzania</td>\n",
       "      <td>404</td>\n",
       "      <td>0.247525</td>\n",
       "    </tr>\n",
       "    <tr>\n",
       "      <th>41</th>\n",
       "      <td>1</td>\n",
       "      <td>Finland</td>\n",
       "      <td>572</td>\n",
       "      <td>0.174825</td>\n",
       "    </tr>\n",
       "  </tbody>\n",
       "</table>\n",
       "</div>"
      ],
      "text/plain": [
       "     GA_FA_articles_count         country  articles_count  percentage_of_GA_FA\n",
       "98                      4         Nigeria             683             0.585652\n",
       "31                      1            Cuba             175             0.571429\n",
       "77                      1      Luxembourg             180             0.555556\n",
       "135                     1          Uganda             187             0.534759\n",
       "88                      2         Moldova             426             0.469484\n",
       "76                      1       Lithuania             248             0.403226\n",
       "33                      1  Czech Republic             252             0.396825\n",
       "105                     1            Peru             354             0.282486\n",
       "129                     1        Tanzania             404             0.247525\n",
       "41                      1         Finland             572             0.174825"
      ]
     },
     "execution_count": 335,
     "metadata": {},
     "output_type": "execute_result"
    }
   ],
   "source": [
    "#10 lowest-ranked countries in terms of number of GA and FA-quality articles as a proportion of all articles about politicians from that country\n",
    "rank_of_countries_by_GA_FA.tail(10)\n"
   ]
  },
  {
   "cell_type": "markdown",
   "metadata": {},
   "source": [
    "## Writeup\n",
    "There are some surprising findings and some not so surpring findings from the data.\n",
    "#### Surprising findings:\n",
    "    * 9 out of the top 10 countries  with highest percentage of politician articles have count of articles in 2-digits. Contast this with India, China and US which have thosands of articles published. On closer look, the countries featured in the top 10 list because of the low population not because of unusually high number of articles. \n",
    "    * most of the top 10 countries with highest percentage of politician articles do not have English as native language. Still considerable number of articles are published in English wrt population. \n",
    "    * North Korea features on top of the charts for high quality article. Given North Korea remains a closed state with mostly non English speakers, having >20% high quality articles is very surprising.\n",
    "#### Not so surpring findings:  \n",
    "    * India and China have the least percentage of politician articles. Given that these 2 countries have largest population in the world the ratio is bound to be low irrespective of the high number of articles.\n",
    "    * the lowest number of high quality artciles are with the countries which have a non English native language. Thus this finding is not very surprising and as expected. Would be interesting to see though how these countries fare in their native languages on Wikipedia."
   ]
  },
  {
   "cell_type": "code",
   "execution_count": null,
   "metadata": {
    "collapsed": true
   },
   "outputs": [],
   "source": []
  }
 ],
 "metadata": {
  "kernelspec": {
   "display_name": "Python 3",
   "language": "python",
   "name": "python3"
  },
  "language_info": {
   "codemirror_mode": {
    "name": "ipython",
    "version": 3
   },
   "file_extension": ".py",
   "mimetype": "text/x-python",
   "name": "python",
   "nbconvert_exporter": "python",
   "pygments_lexer": "ipython3",
   "version": "3.6.0"
  }
 },
 "nbformat": 4,
 "nbformat_minor": 2
}
